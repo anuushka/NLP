{
 "cells": [
  {
   "cell_type": "code",
   "execution_count": null,
   "id": "9e09ac64",
   "metadata": {},
   "outputs": [],
   "source": [
    "#Mongol textend ordoggui zuiliig space bolgono (Mongol textend ordog zuils: A-Ya a-ya A-Z a-z 0-9 space . , ? ! : ; \"\" - () [] )\n",
    "#2-s olon udaa space avsan bol 1 space bolgono\n",
    "#1-s olon udaa enter avsan bol 1 udaa enter bolgono\n",
    "#moriin tugsguliin space-uudiig ustgana\n",
    "#tom usgeer ehelsen ug mon uu? jijig usgeer ehelsen ug mon uu? bugd tom usgeer ehelsen uu? too mon uu?\n",
    "\n",
    "bad_syms = re.compile('[^А-ЯӨҮа-яөү0-9/s]')\n",
    "\n",
    "def text_prepare(text):\n",
    "    text = bad_syms.sub(\"\",text)\n",
    "    text = re_sub('r\\s+',\"\",text)\n",
    "    text = re_sub('r\\s+', \"\\n\", text)\n",
    "    text = re_sub('r\\s+$','$',\"\", text)\n",
    "    text = ''.join[[word for word in text.split() if word not in stopword]]\n",
    "    stopword = ['ч', 'л', 'аа', 'ээ', 'оо', 'өө', 'даа', 'дээ', 'дөө', 'доо']"
   ]
  }
 ],
 "metadata": {
  "kernelspec": {
   "display_name": "Python 3 (ipykernel)",
   "language": "python",
   "name": "python3"
  },
  "language_info": {
   "codemirror_mode": {
    "name": "ipython",
    "version": 3
   },
   "file_extension": ".py",
   "mimetype": "text/x-python",
   "name": "python",
   "nbconvert_exporter": "python",
   "pygments_lexer": "ipython3",
   "version": "3.9.7"
  }
 },
 "nbformat": 4,
 "nbformat_minor": 5
}
